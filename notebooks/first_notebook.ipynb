{
 "cells": [
  {
   "cell_type": "markdown",
   "metadata": {
    "id": "ldvsjMTxJid6"
   },
   "source": [
    "# My first notebook\n",
    "\n",
    "## Note regarding Google Colab\n",
    "\n",
    "If we need a package installed in Google Colab, we can do it with a cell like this:"
   ]
  },
  {
   "cell_type": "raw",
   "metadata": {},
   "source": [
    "!pip install pandas"
   ]
  },
  {
   "cell_type": "markdown",
   "metadata": {},
   "source": [
    "## Notebooks are like Rmd files in RStudio\n",
    "\n",
    "Other that that, we can run cells here like RStudio:"
   ]
  },
  {
   "cell_type": "code",
   "execution_count": null,
   "metadata": {
    "id": "DqH5HMgnIHgW"
   },
   "outputs": [],
   "source": [
    "import pandas as pd\n",
    "import matplotlib.pyplot as plt\n",
    "\n",
    "DATA_DIR = 'https://raw.githubusercontent.com/bersavosh/S3011/main/data/'"
   ]
  },
  {
   "cell_type": "markdown",
   "metadata": {
    "id": "fF6uYR0WKXNT"
   },
   "source": [
    "## Our data"
   ]
  },
  {
   "cell_type": "code",
   "execution_count": null,
   "metadata": {
    "colab": {
     "base_uri": "https://localhost:8080/",
     "height": 635
    },
    "id": "rzaM-gA9IHgX",
    "outputId": "ff0dc880-f805-4f6e-f6ec-780bd14ca6b6"
   },
   "outputs": [],
   "source": [
    "data = pd.read_csv(DATA_DIR+'movement-speeds-hourly-san-francisco-2020-1_first4k.csv')\n",
    "\n",
    "# How do I look at my data?\n"
   ]
  },
  {
   "cell_type": "markdown",
   "metadata": {
    "id": "phEEBJu7KaHE"
   },
   "source": [
    "## Making a simple plot\n",
    "\n",
    "Implict"
   ]
  },
  {
   "cell_type": "code",
   "execution_count": null,
   "metadata": {
    "colab": {
     "base_uri": "https://localhost:8080/",
     "height": 448
    },
    "id": "KiNXCxlxKK8S",
    "outputId": "dfcfb7be-1aaa-42c2-c6d5-6b7459c3e456"
   },
   "outputs": [],
   "source": []
  },
  {
   "cell_type": "markdown",
   "metadata": {
    "id": "bVGnxlgIMszK"
   },
   "source": [
    "Explicit"
   ]
  },
  {
   "cell_type": "code",
   "execution_count": null,
   "metadata": {
    "colab": {
     "base_uri": "https://localhost:8080/",
     "height": 540
    },
    "id": "OvlX0OvhKJdq",
    "outputId": "593c8f98-150d-4d1b-9d5f-bfb2f143f0d9"
   },
   "outputs": [],
   "source": []
  },
  {
   "cell_type": "markdown",
   "metadata": {
    "id": "niby5VNzM_II"
   },
   "source": [
    "Now customizing the plot"
   ]
  },
  {
   "cell_type": "code",
   "execution_count": null,
   "metadata": {
    "colab": {
     "base_uri": "https://localhost:8080/",
     "height": 467
    },
    "id": "FiE-nhQPMxjy",
    "outputId": "e7382017-437e-4401-f87b-b5a7ba282441"
   },
   "outputs": [],
   "source": []
  },
  {
   "cell_type": "markdown",
   "metadata": {
    "id": "Yz-AghKdNkhw"
   },
   "source": [
    "## Saving: raster versus vector rendering"
   ]
  },
  {
   "cell_type": "code",
   "execution_count": null,
   "metadata": {
    "id": "0Ff1LAVWNjH9"
   },
   "outputs": [],
   "source": []
  }
 ],
 "metadata": {
  "colab": {
   "provenance": []
  },
  "kernelspec": {
   "display_name": "bayes",
   "language": "python",
   "name": "bayes"
  },
  "language_info": {
   "codemirror_mode": {
    "name": "ipython",
    "version": 3
   },
   "file_extension": ".py",
   "mimetype": "text/x-python",
   "name": "python",
   "nbconvert_exporter": "python",
   "pygments_lexer": "ipython3",
   "version": "3.10.5"
  }
 },
 "nbformat": 4,
 "nbformat_minor": 4
}
