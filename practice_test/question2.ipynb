{
 "cells": [
  {
   "cell_type": "markdown",
   "id": "22d17c58-4e5e-476e-9416-ca28c72adbc7",
   "metadata": {},
   "source": [
    "\n",
    "# THIS IS A PRACTICE TEST - NOT THE ACTUAL TEST 2 \n",
    "## Question 2\n",
    "\n",
    "Please note:\n",
    "\n",
    "- It would not matter what colors you use to create the plot, as long as the elements are legibile. However, marks are allocated for all other visualisation elements.\n",
    "- The exact choice of binning, kernel and bandwidth are not important as long as the main shape and features visible in the demonstrated plot are clearly seen.\n",
    "- For KDE estimation, you are free to use any reasonable adaption, SciPy and KDEpy implementations are imported for convenience."
   ]
  },
  {
   "cell_type": "code",
   "execution_count": null,
   "id": "11dacee0",
   "metadata": {},
   "outputs": [],
   "source": [
    "!pip install KDEpy"
   ]
  },
  {
   "cell_type": "code",
   "execution_count": null,
   "id": "56a82bcc-ac2d-4ff9-9c35-22d5a47b1c75",
   "metadata": {
    "tags": []
   },
   "outputs": [],
   "source": [
    "import numpy as np\n",
    "import pandas as pd\n",
    "import matplotlib.pyplot as plt\n",
    "from scipy.stats import gaussian_kde\n",
    "from KDEpy import FFTKDE"
   ]
  },
  {
   "cell_type": "markdown",
   "id": "d51dfdfc-3591-4bfd-bfbf-048ceb3472bc",
   "metadata": {},
   "source": [
    "## Data for visualization"
   ]
  },
  {
   "cell_type": "code",
   "execution_count": null,
   "id": "fa2d1f1f-347e-4840-b0c7-645228f92089",
   "metadata": {
    "tags": []
   },
   "outputs": [],
   "source": [
    "data = pd.read_csv('https://raw.githubusercontent.com/bersavosh/S3011/main/practice_test/weather_data.csv')\n",
    "budapest_humidity = data['BUDAPEST_humidity'].values"
   ]
  },
  {
   "cell_type": "markdown",
   "id": "cba2d2b0-cb8f-43bd-b6a2-aa8ee4a9f09d",
   "metadata": {},
   "source": [
    "## Histogram"
   ]
  },
  {
   "cell_type": "code",
   "execution_count": null,
   "id": "a60a58c9-7d6c-4c1e-b97d-b9bd89cfe3ad",
   "metadata": {},
   "outputs": [],
   "source": [
    "fig = plt.figure(figsize=(10,7))\n",
    "ax = fig.add_subplot(1,1,1)\n",
    "\n"
   ]
  },
  {
   "cell_type": "markdown",
   "id": "52657b52-3ddb-4a55-9f07-5637ac7291e5",
   "metadata": {},
   "source": [
    "## KDE plot"
   ]
  },
  {
   "cell_type": "code",
   "execution_count": null,
   "id": "4ef18532-65bd-4e76-a8ce-6fdba0eda9e4",
   "metadata": {},
   "outputs": [],
   "source": [
    "fig = plt.figure(figsize=(10,7))\n",
    "ax = fig.add_subplot(1,1,1)\n",
    "\n"
   ]
  },
  {
   "cell_type": "markdown",
   "id": "a4cd39e4-7cfa-4a31-b5e9-77ea5b3559f4",
   "metadata": {},
   "source": [
    "---\n",
    "END OF QUESTION 2"
   ]
  }
 ],
 "metadata": {
  "kernelspec": {
   "display_name": "bayes",
   "language": "python",
   "name": "bayes"
  },
  "language_info": {
   "codemirror_mode": {
    "name": "ipython",
    "version": 3
   },
   "file_extension": ".py",
   "mimetype": "text/x-python",
   "name": "python",
   "nbconvert_exporter": "python",
   "pygments_lexer": "ipython3",
   "version": "3.10.5"
  }
 },
 "nbformat": 4,
 "nbformat_minor": 5
}
