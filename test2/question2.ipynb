{
 "cells": [
  {
   "cell_type": "markdown",
   "id": "22d17c58-4e5e-476e-9416-ca28c72adbc7",
   "metadata": {},
   "source": [
    "# Test 2 - Question 2\n",
    "\n",
    "Use `population_growth.csv` to create the following plot for Growth rate using Matploblib.\n",
    "\n",
    "\n",
    "Please note:\n",
    "\n",
    "- Exact choice of color for elements of visualization is not important. However, proper choice for the elements to be legible is important and marked. Make sure to pay attention to proper binning, bandwidth selection, labeling of elements, scales.\n",
    "- There is no single correct choice of binning/bandwidth. As long as the features in the data are not misrepresented, the choices are valid.\n",
    "- For KDE estimation, you are free to use any reasonable python adaptation, SciPy and KDEpy implementations are imported in the templare notebook for convenience.\n",
    "- Your response for this question should be a single Jupyter Notebook file uploaded to the exam here.\n",
    "- If you are using Google Colab for this question, make sure to save and download your notebook from Colab, and upload it to Blackboard here.\n",
    "- Remember that edits and uploads do not persist on a Colab Server (refreshing/closing and opening the server may lead to data loss), make sure to save and download your work."
   ]
  },
  {
   "cell_type": "markdown",
   "id": "6644a392-9f35-4ab7-8653-e0ea9c680cce",
   "metadata": {},
   "source": [
    "If you are running this on Google Colab, execute the following cell:"
   ]
  },
  {
   "cell_type": "code",
   "execution_count": null,
   "id": "d2867798-e6aa-418a-96a2-eb67d7f01ba4",
   "metadata": {},
   "outputs": [],
   "source": [
    "!pip install KDEpy"
   ]
  },
  {
   "cell_type": "code",
   "execution_count": null,
   "id": "56a82bcc-ac2d-4ff9-9c35-22d5a47b1c75",
   "metadata": {},
   "outputs": [],
   "source": [
    "import numpy as np\n",
    "import pandas as pd\n",
    "import matplotlib.pyplot as plt\n",
    "from scipy.stats import gaussian_kde\n",
    "from KDEpy import FFTKDE\n",
    "\n",
    "from matplotlib import rc\n",
    "rc('font',**{'family':'sans-serif','sans-serif':['Helvetica']})\n",
    "rc('text', usetex=False)\n",
    "rc('font', family='serif')"
   ]
  },
  {
   "cell_type": "markdown",
   "id": "d51dfdfc-3591-4bfd-bfbf-048ceb3472bc",
   "metadata": {},
   "source": [
    "## Data for visualization"
   ]
  },
  {
   "cell_type": "code",
   "execution_count": null,
   "id": "fa2d1f1f-347e-4840-b0c7-645228f92089",
   "metadata": {},
   "outputs": [],
   "source": [
    "dataframe = pd.read_csv('population_growth.csv')\n",
    "growth = dataframe['Growth Rate'].values"
   ]
  },
  {
   "cell_type": "code",
   "execution_count": null,
   "id": "a60a58c9-7d6c-4c1e-b97d-b9bd89cfe3ad",
   "metadata": {},
   "outputs": [],
   "source": [
    "fig = plt.figure(figsize=(10,7))\n",
    "ax = fig.add_subplot(1,1,1)\n",
    "\n"
   ]
  },
  {
   "cell_type": "markdown",
   "id": "a4cd39e4-7cfa-4a31-b5e9-77ea5b3559f4",
   "metadata": {},
   "source": [
    "---\n",
    "END OF QUESTION 2"
   ]
  }
 ],
 "metadata": {
  "kernelspec": {
   "display_name": "bayes",
   "language": "python",
   "name": "bayes"
  },
  "language_info": {
   "codemirror_mode": {
    "name": "ipython",
    "version": 3
   },
   "file_extension": ".py",
   "mimetype": "text/x-python",
   "name": "python",
   "nbconvert_exporter": "python",
   "pygments_lexer": "ipython3",
   "version": "3.10.5"
  }
 },
 "nbformat": 4,
 "nbformat_minor": 5
}
